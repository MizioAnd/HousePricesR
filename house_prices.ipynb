{
 "cells": [
  {
   "cell_type": "code",
   "execution_count": 2,
   "metadata": {
    "collapsed": false
   },
   "outputs": [
    {
     "data": {
      "text/html": [
       "'merge_train_and_test_dataframe'"
      ],
      "text/latex": [
       "'merge\\_train\\_and\\_test\\_dataframe'"
      ],
      "text/markdown": [
       "'merge_train_and_test_dataframe'"
      ],
      "text/plain": [
       "[1] \"merge_train_and_test_dataframe\""
      ]
     },
     "metadata": {},
     "output_type": "display_data"
    },
    {
     "data": {
      "text/html": [
       "'merge_train_and_test_dataframe'"
      ],
      "text/latex": [
       "'merge\\_train\\_and\\_test\\_dataframe'"
      ],
      "text/markdown": [
       "'merge_train_and_test_dataframe'"
      ],
      "text/plain": [
       "[1] \"merge_train_and_test_dataframe\""
      ]
     },
     "metadata": {},
     "output_type": "display_data"
    },
    {
     "data": {
      "text/html": [
       "'drop_variable_before_preparation'"
      ],
      "text/latex": [
       "'drop\\_variable\\_before\\_preparation'"
      ],
      "text/markdown": [
       "'drop_variable_before_preparation'"
      ],
      "text/plain": [
       "[1] \"drop_variable_before_preparation\""
      ]
     },
     "metadata": {},
     "output_type": "display_data"
    },
    {
     "data": {
      "text/html": [
       "'drop_variable_before_preparation'"
      ],
      "text/latex": [
       "'drop\\_variable\\_before\\_preparation'"
      ],
      "text/markdown": [
       "'drop_variable_before_preparation'"
      ],
      "text/plain": [
       "[1] \"drop_variable_before_preparation\""
      ]
     },
     "metadata": {},
     "output_type": "display_data"
    },
    {
     "data": {
      "text/html": [
       "'clean_data'"
      ],
      "text/latex": [
       "'clean\\_data'"
      ],
      "text/markdown": [
       "'clean_data'"
      ],
      "text/plain": [
       "[1] \"clean_data\""
      ]
     },
     "metadata": {},
     "output_type": "display_data"
    },
    {
     "data": {
      "text/html": [
       "'clean_data'"
      ],
      "text/latex": [
       "'clean\\_data'"
      ],
      "text/markdown": [
       "'clean_data'"
      ],
      "text/plain": [
       "[1] \"clean_data\""
      ]
     },
     "metadata": {},
     "output_type": "display_data"
    },
    {
     "data": {
      "text/html": [
       "'numerical_feature_logical'"
      ],
      "text/latex": [
       "'numerical\\_feature\\_logical'"
      ],
      "text/markdown": [
       "'numerical_feature_logical'"
      ],
      "text/plain": [
       "[1] \"numerical_feature_logical\""
      ]
     },
     "metadata": {},
     "output_type": "display_data"
    },
    {
     "data": {
      "text/html": [
       "'numerical_feature_logical'"
      ],
      "text/latex": [
       "'numerical\\_feature\\_logical'"
      ],
      "text/markdown": [
       "'numerical_feature_logical'"
      ],
      "text/plain": [
       "[1] \"numerical_feature_logical\""
      ]
     },
     "metadata": {},
     "output_type": "display_data"
    },
    {
     "data": {
      "text/html": [
       "'extract_numerical_features'"
      ],
      "text/latex": [
       "'extract\\_numerical\\_features'"
      ],
      "text/markdown": [
       "'extract_numerical_features'"
      ],
      "text/plain": [
       "[1] \"extract_numerical_features\""
      ]
     },
     "metadata": {},
     "output_type": "display_data"
    },
    {
     "data": {
      "text/html": [
       "'extract_numerical_features'"
      ],
      "text/latex": [
       "'extract\\_numerical\\_features'"
      ],
      "text/markdown": [
       "'extract_numerical_features'"
      ],
      "text/plain": [
       "[1] \"extract_numerical_features\""
      ]
     },
     "metadata": {},
     "output_type": "display_data"
    },
    {
     "data": {
      "text/html": [
       "'extract_non_numerical_features'"
      ],
      "text/latex": [
       "'extract\\_non\\_numerical\\_features'"
      ],
      "text/markdown": [
       "'extract_non_numerical_features'"
      ],
      "text/plain": [
       "[1] \"extract_non_numerical_features\""
      ]
     },
     "metadata": {},
     "output_type": "display_data"
    },
    {
     "data": {
      "text/html": [
       "'extract_non_numerical_features'"
      ],
      "text/latex": [
       "'extract\\_non\\_numerical\\_features'"
      ],
      "text/markdown": [
       "'extract_non_numerical_features'"
      ],
      "text/plain": [
       "[1] \"extract_non_numerical_features\""
      ]
     },
     "metadata": {},
     "output_type": "display_data"
    },
    {
     "data": {
      "text/html": [
       "'encode_labels_in_numeric_format'"
      ],
      "text/latex": [
       "'encode\\_labels\\_in\\_numeric\\_format'"
      ],
      "text/markdown": [
       "'encode_labels_in_numeric_format'"
      ],
      "text/plain": [
       "[1] \"encode_labels_in_numeric_format\""
      ]
     },
     "metadata": {},
     "output_type": "display_data"
    },
    {
     "data": {
      "text/html": [
       "'encode_labels_in_numeric_format'"
      ],
      "text/latex": [
       "'encode\\_labels\\_in\\_numeric\\_format'"
      ],
      "text/markdown": [
       "'encode_labels_in_numeric_format'"
      ],
      "text/plain": [
       "[1] \"encode_labels_in_numeric_format\""
      ]
     },
     "metadata": {},
     "output_type": "display_data"
    },
    {
     "data": {
      "text/html": [
       "'one_hot_encoder'"
      ],
      "text/latex": [
       "'one\\_hot\\_encoder'"
      ],
      "text/markdown": [
       "'one_hot_encoder'"
      ],
      "text/plain": [
       "[1] \"one_hot_encoder\""
      ]
     },
     "metadata": {},
     "output_type": "display_data"
    },
    {
     "data": {
      "text/html": [
       "'one_hot_encoder'"
      ],
      "text/latex": [
       "'one\\_hot\\_encoder'"
      ],
      "text/markdown": [
       "'one_hot_encoder'"
      ],
      "text/plain": [
       "[1] \"one_hot_encoder\""
      ]
     },
     "metadata": {},
     "output_type": "display_data"
    },
    {
     "data": {
      "text/html": [
       "'feature_mapping_to_numerical_values'"
      ],
      "text/latex": [
       "'feature\\_mapping\\_to\\_numerical\\_values'"
      ],
      "text/markdown": [
       "'feature_mapping_to_numerical_values'"
      ],
      "text/plain": [
       "[1] \"feature_mapping_to_numerical_values\""
      ]
     },
     "metadata": {},
     "output_type": "display_data"
    },
    {
     "data": {
      "text/html": [
       "'feature_mapping_to_numerical_values'"
      ],
      "text/latex": [
       "'feature\\_mapping\\_to\\_numerical\\_values'"
      ],
      "text/markdown": [
       "'feature_mapping_to_numerical_values'"
      ],
      "text/plain": [
       "[1] \"feature_mapping_to_numerical_values\""
      ]
     },
     "metadata": {},
     "output_type": "display_data"
    },
    {
     "data": {
      "text/html": [
       "'feature_names_num'"
      ],
      "text/latex": [
       "'feature\\_names\\_num'"
      ],
      "text/markdown": [
       "'feature_names_num'"
      ],
      "text/plain": [
       "[1] \"feature_names_num\""
      ]
     },
     "metadata": {},
     "output_type": "display_data"
    },
    {
     "data": {
      "text/html": [
       "'feature_names_num'"
      ],
      "text/latex": [
       "'feature\\_names\\_num'"
      ],
      "text/markdown": [
       "'feature_names_num'"
      ],
      "text/plain": [
       "[1] \"feature_names_num\""
      ]
     },
     "metadata": {},
     "output_type": "display_data"
    },
    {
     "data": {
      "text/html": [
       "'drop_features_num'"
      ],
      "text/latex": [
       "'drop\\_features\\_num'"
      ],
      "text/markdown": [
       "'drop_features_num'"
      ],
      "text/plain": [
       "[1] \"drop_features_num\""
      ]
     },
     "metadata": {},
     "output_type": "display_data"
    },
    {
     "data": {
      "text/html": [
       "'drop_features_num'"
      ],
      "text/latex": [
       "'drop\\_features\\_num'"
      ],
      "text/markdown": [
       "'drop_features_num'"
      ],
      "text/plain": [
       "[1] \"drop_features_num\""
      ]
     },
     "metadata": {},
     "output_type": "display_data"
    },
    {
     "data": {
      "text/html": [
       "'get_is_one_hot_encoder'"
      ],
      "text/latex": [
       "'get\\_is\\_one\\_hot\\_encoder'"
      ],
      "text/markdown": [
       "'get_is_one_hot_encoder'"
      ],
      "text/plain": [
       "[1] \"get_is_one_hot_encoder\""
      ]
     },
     "metadata": {},
     "output_type": "display_data"
    },
    {
     "data": {
      "text/html": [
       "'get_is_one_hot_encoder'"
      ],
      "text/latex": [
       "'get\\_is\\_one\\_hot\\_encoder'"
      ],
      "text/markdown": [
       "'get_is_one_hot_encoder'"
      ],
      "text/plain": [
       "[1] \"get_is_one_hot_encoder\""
      ]
     },
     "metadata": {},
     "output_type": "display_data"
    },
    {
     "data": {
      "text/html": [
       "'set_is_one_hot_encoder'"
      ],
      "text/latex": [
       "'set\\_is\\_one\\_hot\\_encoder'"
      ],
      "text/markdown": [
       "'set_is_one_hot_encoder'"
      ],
      "text/plain": [
       "[1] \"set_is_one_hot_encoder\""
      ]
     },
     "metadata": {},
     "output_type": "display_data"
    },
    {
     "data": {
      "text/html": [
       "'set_is_one_hot_encoder'"
      ],
      "text/latex": [
       "'set\\_is\\_one\\_hot\\_encoder'"
      ],
      "text/markdown": [
       "'set_is_one_hot_encoder'"
      ],
      "text/plain": [
       "[1] \"set_is_one_hot_encoder\""
      ]
     },
     "metadata": {},
     "output_type": "display_data"
    },
    {
     "data": {
      "text/html": [
       "'skew_correction'"
      ],
      "text/latex": [
       "'skew\\_correction'"
      ],
      "text/markdown": [
       "'skew_correction'"
      ],
      "text/plain": [
       "[1] \"skew_correction\""
      ]
     },
     "metadata": {},
     "output_type": "display_data"
    },
    {
     "data": {
      "text/html": [
       "'skew_correction'"
      ],
      "text/latex": [
       "'skew\\_correction'"
      ],
      "text/markdown": [
       "'skew_correction'"
      ],
      "text/plain": [
       "[1] \"skew_correction\""
      ]
     },
     "metadata": {},
     "output_type": "display_data"
    },
    {
     "data": {
      "text/html": [
       "'skew_correction'"
      ],
      "text/latex": [
       "'skew\\_correction'"
      ],
      "text/markdown": [
       "'skew_correction'"
      ],
      "text/plain": [
       "[1] \"skew_correction\""
      ]
     },
     "metadata": {},
     "output_type": "display_data"
    },
    {
     "data": {
      "text/html": [
       "'feature_engineering'"
      ],
      "text/latex": [
       "'feature\\_engineering'"
      ],
      "text/markdown": [
       "'feature_engineering'"
      ],
      "text/plain": [
       "[1] \"feature_engineering\""
      ]
     },
     "metadata": {},
     "output_type": "display_data"
    },
    {
     "data": {
      "text/html": [
       "'feature_engineering'"
      ],
      "text/latex": [
       "'feature\\_engineering'"
      ],
      "text/markdown": [
       "'feature_engineering'"
      ],
      "text/plain": [
       "[1] \"feature_engineering\""
      ]
     },
     "metadata": {},
     "output_type": "display_data"
    },
    {
     "data": {
      "text/html": [
       "'feature_scaling'"
      ],
      "text/latex": [
       "'feature\\_scaling'"
      ],
      "text/markdown": [
       "'feature_scaling'"
      ],
      "text/plain": [
       "[1] \"feature_scaling\""
      ]
     },
     "metadata": {},
     "output_type": "display_data"
    },
    {
     "data": {
      "text/html": [
       "'feature_scaling'"
      ],
      "text/latex": [
       "'feature\\_scaling'"
      ],
      "text/markdown": [
       "'feature_scaling'"
      ],
      "text/plain": [
       "[1] \"feature_scaling\""
      ]
     },
     "metadata": {},
     "output_type": "display_data"
    },
    {
     "data": {
      "text/html": [
       "'plot_histogram'"
      ],
      "text/latex": [
       "'plot\\_histogram'"
      ],
      "text/markdown": [
       "'plot_histogram'"
      ],
      "text/plain": [
       "[1] \"plot_histogram\""
      ]
     },
     "metadata": {},
     "output_type": "display_data"
    },
    {
     "data": {
      "text/html": [
       "'plot_histogram'"
      ],
      "text/latex": [
       "'plot\\_histogram'"
      ],
      "text/markdown": [
       "'plot_histogram'"
      ],
      "text/plain": [
       "[1] \"plot_histogram\""
      ]
     },
     "metadata": {},
     "output_type": "display_data"
    },
    {
     "data": {
      "text/html": [
       "'plot_function'"
      ],
      "text/latex": [
       "'plot\\_function'"
      ],
      "text/markdown": [
       "'plot_function'"
      ],
      "text/plain": [
       "[1] \"plot_function\""
      ]
     },
     "metadata": {},
     "output_type": "display_data"
    },
    {
     "data": {
      "text/html": [
       "'plot_function'"
      ],
      "text/latex": [
       "'plot\\_function'"
      ],
      "text/markdown": [
       "'plot_function'"
      ],
      "text/plain": [
       "[1] \"plot_function\""
      ]
     },
     "metadata": {},
     "output_type": "display_data"
    },
    {
     "data": {
      "text/html": [
       "'plot_density'"
      ],
      "text/latex": [
       "'plot\\_density'"
      ],
      "text/markdown": [
       "'plot_density'"
      ],
      "text/plain": [
       "[1] \"plot_density\""
      ]
     },
     "metadata": {},
     "output_type": "display_data"
    },
    {
     "data": {
      "text/html": [
       "'plot_density'"
      ],
      "text/latex": [
       "'plot\\_density'"
      ],
      "text/markdown": [
       "'plot_density'"
      ],
      "text/plain": [
       "[1] \"plot_density\""
      ]
     },
     "metadata": {},
     "output_type": "display_data"
    },
    {
     "data": {
      "text/html": [
       "'prepare_data'"
      ],
      "text/latex": [
       "'prepare\\_data'"
      ],
      "text/markdown": [
       "'prepare_data'"
      ],
      "text/plain": [
       "[1] \"prepare_data\""
      ]
     },
     "metadata": {},
     "output_type": "display_data"
    },
    {
     "data": {
      "text/html": [
       "'prepare_data'"
      ],
      "text/latex": [
       "'prepare\\_data'"
      ],
      "text/markdown": [
       "'prepare_data'"
      ],
      "text/plain": [
       "[1] \"prepare_data\""
      ]
     },
     "metadata": {},
     "output_type": "display_data"
    },
    {
     "name": "stdout",
     "output_type": "stream",
     "text": [
      "[1] \"Alley\"       \"FireplaceQu\" \"PoolQC\"      \"Fence\"       \"MiscFeature\"\n",
      "       PoolQC   MiscFeature         Alley         Fence   FireplaceQu \n",
      "         2909          2814          2721          2348          1420 \n",
      "  LotFrontage   GarageYrBlt  GarageFinish    GarageQual    GarageCond \n",
      "          486           159           159           159           159 \n",
      "   GarageType      BsmtCond  BsmtExposure      BsmtQual  BsmtFinType2 \n",
      "          157            82            82            81            80 \n",
      " BsmtFinType1    MasVnrType    MasVnrArea      MSZoning     Utilities \n",
      "           79            24            23             4             2 \n",
      " BsmtFullBath  BsmtHalfBath    Functional   Exterior1st   Exterior2nd \n",
      "            2             2             2             1             1 \n",
      "   BsmtFinSF1    BsmtFinSF2     BsmtUnfSF   TotalBsmtSF    Electrical \n",
      "            1             1             1             1             1 \n",
      "  KitchenQual    GarageCars    GarageArea      SaleType    MSSubClass \n",
      "            1             1             1             1             0 \n",
      "      LotArea        Street      LotShape   LandContour     LotConfig \n",
      "            0             0             0             0             0 \n",
      "    LandSlope  Neighborhood    Condition1    Condition2      BldgType \n",
      "            0             0             0             0             0 \n",
      "   HouseStyle   OverallQual   OverallCond     YearBuilt  YearRemodAdd \n",
      "            0             0             0             0             0 \n",
      "    RoofStyle      RoofMatl     ExterQual     ExterCond    Foundation \n",
      "            0             0             0             0             0 \n",
      "      Heating     HeatingQC    CentralAir      1stFlrSF      2ndFlrSF \n",
      "            0             0             0             0             0 \n",
      " LowQualFinSF     GrLivArea      FullBath      HalfBath  BedroomAbvGr \n",
      "            0             0             0             0             0 \n",
      " KitchenAbvGr  TotRmsAbvGrd    Fireplaces    PavedDrive    WoodDeckSF \n",
      "            0             0             0             0             0 \n",
      "  OpenPorchSF EnclosedPorch     3SsnPorch   ScreenPorch      PoolArea \n",
      "            0             0             0             0             0 \n",
      "      MiscVal        MoSold        YrSold SaleCondition \n",
      "            0             0             0             0 \n",
      "   MSSubClass       MSZoning          LotFrontage        LotArea      \n",
      " Min.   : 20.00   Length:2919        Min.   : 21.00   Min.   :  1300  \n",
      " 1st Qu.: 20.00   Class :character   1st Qu.: 59.00   1st Qu.:  7478  \n",
      " Median : 50.00   Mode  :character   Median : 68.00   Median :  9453  \n",
      " Mean   : 57.14                      Mean   : 69.31   Mean   : 10168  \n",
      " 3rd Qu.: 70.00                      3rd Qu.: 80.00   3rd Qu.: 11570  \n",
      " Max.   :190.00                      Max.   :313.00   Max.   :215245  \n",
      "                                     NA's   :486                      \n",
      "    Street             Alley             LotShape         LandContour       \n",
      " Length:2919        Length:2919        Length:2919        Length:2919       \n",
      " Class :character   Class :character   Class :character   Class :character  \n",
      " Mode  :character   Mode  :character   Mode  :character   Mode  :character  \n",
      "                                                                            \n",
      "                                                                            \n",
      "                                                                            \n",
      "                                                                            \n",
      "  Utilities          LotConfig          LandSlope         Neighborhood      \n",
      " Length:2919        Length:2919        Length:2919        Length:2919       \n",
      " Class :character   Class :character   Class :character   Class :character  \n",
      " Mode  :character   Mode  :character   Mode  :character   Mode  :character  \n",
      "                                                                            \n",
      "                                                                            \n",
      "                                                                            \n",
      "                                                                            \n",
      "  Condition1         Condition2          BldgType          HouseStyle       \n",
      " Length:2919        Length:2919        Length:2919        Length:2919       \n",
      " Class :character   Class :character   Class :character   Class :character  \n",
      " Mode  :character   Mode  :character   Mode  :character   Mode  :character  \n",
      "                                                                            \n",
      "                                                                            \n",
      "                                                                            \n",
      "                                                                            \n",
      "  OverallQual      OverallCond      YearBuilt     YearRemodAdd \n",
      " Min.   : 1.000   Min.   :1.000   Min.   :1872   Min.   :1950  \n",
      " 1st Qu.: 5.000   1st Qu.:5.000   1st Qu.:1954   1st Qu.:1965  \n",
      " Median : 6.000   Median :5.000   Median :1973   Median :1993  \n",
      " Mean   : 6.089   Mean   :5.565   Mean   :1971   Mean   :1984  \n",
      " 3rd Qu.: 7.000   3rd Qu.:6.000   3rd Qu.:2001   3rd Qu.:2004  \n",
      " Max.   :10.000   Max.   :9.000   Max.   :2010   Max.   :2010  \n",
      "                                                               \n",
      "  RoofStyle           RoofMatl         Exterior1st        Exterior2nd       \n",
      " Length:2919        Length:2919        Length:2919        Length:2919       \n",
      " Class :character   Class :character   Class :character   Class :character  \n",
      " Mode  :character   Mode  :character   Mode  :character   Mode  :character  \n",
      "                                                                            \n",
      "                                                                            \n",
      "                                                                            \n",
      "                                                                            \n",
      "  MasVnrType          MasVnrArea      ExterQual          ExterCond        \n",
      " Length:2919        Min.   :   0.0   Length:2919        Length:2919       \n",
      " Class :character   1st Qu.:   0.0   Class :character   Class :character  \n",
      " Mode  :character   Median :   0.0   Mode  :character   Mode  :character  \n",
      "                    Mean   : 102.2                                        \n",
      "                    3rd Qu.: 164.0                                        \n",
      "                    Max.   :1600.0                                        \n",
      "                    NA's   :23                                            \n",
      "  Foundation          BsmtQual           BsmtCond         BsmtExposure      \n",
      " Length:2919        Length:2919        Length:2919        Length:2919       \n",
      " Class :character   Class :character   Class :character   Class :character  \n",
      " Mode  :character   Mode  :character   Mode  :character   Mode  :character  \n",
      "                                                                            \n",
      "                                                                            \n",
      "                                                                            \n",
      "                                                                            \n",
      " BsmtFinType1         BsmtFinSF1     BsmtFinType2         BsmtFinSF2     \n",
      " Length:2919        Min.   :   0.0   Length:2919        Min.   :   0.00  \n",
      " Class :character   1st Qu.:   0.0   Class :character   1st Qu.:   0.00  \n",
      " Mode  :character   Median : 368.5   Mode  :character   Median :   0.00  \n",
      "                    Mean   : 441.4                      Mean   :  49.58  \n",
      "                    3rd Qu.: 733.0                      3rd Qu.:   0.00  \n",
      "                    Max.   :5644.0                      Max.   :1526.00  \n",
      "                    NA's   :1                           NA's   :1        \n",
      "   BsmtUnfSF       TotalBsmtSF       Heating           HeatingQC        \n",
      " Min.   :   0.0   Min.   :   0.0   Length:2919        Length:2919       \n",
      " 1st Qu.: 220.0   1st Qu.: 793.0   Class :character   Class :character  \n",
      " Median : 467.0   Median : 989.5   Mode  :character   Mode  :character  \n",
      " Mean   : 560.8   Mean   :1051.8                                        \n",
      " 3rd Qu.: 805.5   3rd Qu.:1302.0                                        \n",
      " Max.   :2336.0   Max.   :6110.0                                        \n",
      " NA's   :1        NA's   :1                                             \n",
      "  CentralAir         Electrical           1stFlrSF       2ndFlrSF     \n",
      " Length:2919        Length:2919        Min.   : 334   Min.   :   0.0  \n",
      " Class :character   Class :character   1st Qu.: 876   1st Qu.:   0.0  \n",
      " Mode  :character   Mode  :character   Median :1082   Median :   0.0  \n",
      "                                       Mean   :1160   Mean   : 336.5  \n",
      "                                       3rd Qu.:1388   3rd Qu.: 704.0  \n",
      "                                       Max.   :5095   Max.   :2065.0  \n",
      "                                                                      \n",
      "  LowQualFinSF        GrLivArea     BsmtFullBath     BsmtHalfBath    \n",
      " Min.   :   0.000   Min.   : 334   Min.   :0.0000   Min.   :0.00000  \n",
      " 1st Qu.:   0.000   1st Qu.:1126   1st Qu.:0.0000   1st Qu.:0.00000  \n",
      " Median :   0.000   Median :1444   Median :0.0000   Median :0.00000  \n",
      " Mean   :   4.694   Mean   :1501   Mean   :0.4299   Mean   :0.06136  \n",
      " 3rd Qu.:   0.000   3rd Qu.:1744   3rd Qu.:1.0000   3rd Qu.:0.00000  \n",
      " Max.   :1064.000   Max.   :5642   Max.   :3.0000   Max.   :2.00000  \n",
      "                                   NA's   :2        NA's   :2        \n",
      "    FullBath        HalfBath       BedroomAbvGr   KitchenAbvGr  \n",
      " Min.   :0.000   Min.   :0.0000   Min.   :0.00   Min.   :0.000  \n",
      " 1st Qu.:1.000   1st Qu.:0.0000   1st Qu.:2.00   1st Qu.:1.000  \n",
      " Median :2.000   Median :0.0000   Median :3.00   Median :1.000  \n",
      " Mean   :1.568   Mean   :0.3803   Mean   :2.86   Mean   :1.045  \n",
      " 3rd Qu.:2.000   3rd Qu.:1.0000   3rd Qu.:3.00   3rd Qu.:1.000  \n",
      " Max.   :4.000   Max.   :2.0000   Max.   :8.00   Max.   :3.000  \n",
      "                                                                \n",
      " KitchenQual         TotRmsAbvGrd     Functional          Fireplaces    \n",
      " Length:2919        Min.   : 2.000   Length:2919        Min.   :0.0000  \n",
      " Class :character   1st Qu.: 5.000   Class :character   1st Qu.:0.0000  \n",
      " Mode  :character   Median : 6.000   Mode  :character   Median :1.0000  \n",
      "                    Mean   : 6.452                      Mean   :0.5971  \n",
      "                    3rd Qu.: 7.000                      3rd Qu.:1.0000  \n",
      "                    Max.   :15.000                      Max.   :4.0000  \n",
      "                                                                        \n",
      " FireplaceQu         GarageType         GarageYrBlt   GarageFinish      \n",
      " Length:2919        Length:2919        Min.   :1895   Length:2919       \n",
      " Class :character   Class :character   1st Qu.:1960   Class :character  \n",
      " Mode  :character   Mode  :character   Median :1979   Mode  :character  \n",
      "                                       Mean   :1978                     \n",
      "                                       3rd Qu.:2002                     \n",
      "                                       Max.   :2207                     \n",
      "                                       NA's   :159                      \n",
      "   GarageCars      GarageArea      GarageQual         GarageCond       \n",
      " Min.   :0.000   Min.   :   0.0   Length:2919        Length:2919       \n",
      " 1st Qu.:1.000   1st Qu.: 320.0   Class :character   Class :character  \n",
      " Median :2.000   Median : 480.0   Mode  :character   Mode  :character  \n",
      " Mean   :1.767   Mean   : 472.9                                        \n",
      " 3rd Qu.:2.000   3rd Qu.: 576.0                                        \n",
      " Max.   :5.000   Max.   :1488.0                                        \n",
      " NA's   :1       NA's   :1                                             \n",
      "  PavedDrive          WoodDeckSF       OpenPorchSF     EnclosedPorch   \n",
      " Length:2919        Min.   :   0.00   Min.   :  0.00   Min.   :   0.0  \n",
      " Class :character   1st Qu.:   0.00   1st Qu.:  0.00   1st Qu.:   0.0  \n",
      " Mode  :character   Median :   0.00   Median : 26.00   Median :   0.0  \n",
      "                    Mean   :  93.71   Mean   : 47.49   Mean   :  23.1  \n",
      "                    3rd Qu.: 168.00   3rd Qu.: 70.00   3rd Qu.:   0.0  \n",
      "                    Max.   :1424.00   Max.   :742.00   Max.   :1012.0  \n",
      "                                                                       \n",
      "   3SsnPorch        ScreenPorch        PoolArea          PoolQC         \n",
      " Min.   :  0.000   Min.   :  0.00   Min.   :  0.000   Length:2919       \n",
      " 1st Qu.:  0.000   1st Qu.:  0.00   1st Qu.:  0.000   Class :character  \n",
      " Median :  0.000   Median :  0.00   Median :  0.000   Mode  :character  \n",
      " Mean   :  2.602   Mean   : 16.06   Mean   :  2.252                     \n",
      " 3rd Qu.:  0.000   3rd Qu.:  0.00   3rd Qu.:  0.000                     \n",
      " Max.   :508.000   Max.   :576.00   Max.   :800.000                     \n",
      "                                                                        \n",
      "    Fence           MiscFeature           MiscVal             MoSold      \n",
      " Length:2919        Length:2919        Min.   :    0.00   Min.   : 1.000  \n",
      " Class :character   Class :character   1st Qu.:    0.00   1st Qu.: 4.000  \n",
      " Mode  :character   Mode  :character   Median :    0.00   Median : 6.000  \n",
      "                                       Mean   :   50.83   Mean   : 6.213  \n",
      "                                       3rd Qu.:    0.00   3rd Qu.: 8.000  \n",
      "                                       Max.   :17000.00   Max.   :12.000  \n",
      "                                                                          \n",
      "     YrSold       SaleType         SaleCondition     \n",
      " Min.   :2006   Length:2919        Length:2919       \n",
      " 1st Qu.:2007   Class :character   Class :character  \n",
      " Median :2008   Mode  :character   Mode  :character  \n",
      " Mean   :2008                                        \n",
      " 3rd Qu.:2009                                        \n",
      " Max.   :2010                                        \n",
      "                                                     \n",
      "[1] \"After preperation =================\"\n",
      "      MSSubClass      LotFrontage          LotArea      OverallQual \n",
      "               0                0                0                0 \n",
      "     OverallCond        YearBuilt     YearRemodAdd       MasVnrArea \n",
      "               0                0                0                0 \n",
      "      BsmtFinSF1       BsmtFinSF2        BsmtUnfSF      TotalBsmtSF \n",
      "               0                0                0                0 \n",
      "        1stFlrSF         2ndFlrSF     LowQualFinSF        GrLivArea \n",
      "               0                0                0                0 \n",
      "    BsmtFullBath     BsmtHalfBath         FullBath         HalfBath \n",
      "               0                0                0                0 \n",
      "    BedroomAbvGr     KitchenAbvGr     TotRmsAbvGrd       Fireplaces \n",
      "               0                0                0                0 \n",
      "     GarageYrBlt       GarageCars       GarageArea       WoodDeckSF \n",
      "               0                0                0                0 \n",
      "     OpenPorchSF    EnclosedPorch        3SsnPorch      ScreenPorch \n",
      "               0                0                0                0 \n",
      "        PoolArea          MiscVal           MoSold           YrSold \n",
      "               0                0                0                0 \n",
      "     MSZoningNum        StreetNum      LotShapeNum   LandContourNum \n",
      "               0                0                0                0 \n",
      "    UtilitiesNum     LotConfigNum     LandSlopeNum  NeighborhoodNum \n",
      "            2202                0                0                0 \n",
      "   Condition1Num    Condition2Num      BldgTypeNum    HouseStyleNum \n",
      "               0                0                0                0 \n",
      "    RoofStyleNum      RoofMatlNum   Exterior1stNum   Exterior2ndNum \n",
      "               0                0                0                0 \n",
      "   MasVnrTypeNum     ExterQualNum     ExterCondNum    FoundationNum \n",
      "               0                0                0                0 \n",
      "     BsmtQualNum      BsmtCondNum  BsmtExposureNum  BsmtFinType1Num \n",
      "               0                0                0                0 \n",
      " BsmtFinType2Num       HeatingNum     HeatingQCNum    CentralAirNum \n",
      "               0                0                0                0 \n",
      "   ElectricalNum   KitchenQualNum    FunctionalNum    GarageTypeNum \n",
      "               0                0                0                0 \n",
      " GarageFinishNum    GarageQualNum    GarageCondNum    PavedDriveNum \n",
      "               0                0                0                0 \n",
      "     SaleTypeNum SaleConditionNum \n",
      "               0                0 \n",
      "   MSSubClass       LotFrontage         LotArea         OverallQual     \n",
      " Min.   :-1.1042   Min.   :-3.1881   Min.   :-3.8839   Min.   :-3.0266  \n",
      " 1st Qu.:-1.1042   1st Qu.:-0.3097   1st Qu.:-0.3365   1st Qu.:-0.8756  \n",
      " Median : 0.1783   Median : 0.1529   Median : 0.1430   Median :-0.1586  \n",
      " Mean   : 0.0000   Mean   : 0.0000   Mean   : 0.0000   Mean   : 0.0000  \n",
      " 3rd Qu.: 0.6565   3rd Qu.: 0.5512   3rd Qu.: 0.5283   3rd Qu.: 0.5584  \n",
      " Max.   : 2.0869   Max.   : 4.4384   Max.   : 6.5368   Max.   : 2.7094  \n",
      "                                                                        \n",
      "  OverallCond        YearBuilt         YearRemodAdd       MasVnrArea     \n",
      " Min.   :-4.3463   Min.   :-3.02327   Min.   :-1.6737   Min.   :-0.8139  \n",
      " 1st Qu.:-0.5575   1st Qu.:-0.62734   1st Qu.:-0.9139   1st Qu.:-0.8139  \n",
      " Median :-0.5575   Median : 0.05258   Median : 0.4633   Median :-0.8139  \n",
      " Mean   : 0.0000   Mean   : 0.00000   Mean   : 0.0000   Mean   : 0.0000  \n",
      " 3rd Qu.: 0.3897   3rd Qu.: 0.99152   3rd Qu.: 0.9381   3rd Qu.: 1.1347  \n",
      " Max.   : 3.2313   Max.   : 1.21816   Max.   : 1.1756   Max.   : 1.9714  \n",
      "                                                                         \n",
      "   BsmtFinSF1        BsmtFinSF2        BsmtUnfSF        TotalBsmtSF      \n",
      " Min.   :-1.4616   Min.   :-0.3659   Min.   :-3.6808   Min.   :-6.00199  \n",
      " 1st Qu.:-1.4616   1st Qu.:-0.3659   1st Qu.:-0.1912   1st Qu.:-0.60468  \n",
      " Median : 0.5534   Median :-0.3659   Median : 0.2364   Median :-0.02616  \n",
      " Mean   : 0.0000   Mean   : 0.0000   Mean   : 0.0000   Mean   : 0.00000  \n",
      " 3rd Qu.: 0.7812   3rd Qu.:-0.3659   3rd Qu.: 0.5575   3rd Qu.: 0.72031  \n",
      " Max.   : 1.4739   Max.   : 3.4941   Max.   : 1.2100   Max.   : 4.75055  \n",
      "                                                                         \n",
      "    1stFlrSF           2ndFlrSF        LowQualFinSF       GrLivArea       \n",
      " Min.   :-3.06491   Min.   :-0.8791   Min.   :-0.1063   Min.   :-3.95935  \n",
      " 1st Qu.:-0.71194   1st Qu.:-0.8791   1st Qu.:-0.1063   1st Qu.:-0.71026  \n",
      " Median :-0.05328   Median :-0.8791   Median :-0.1063   Median : 0.03983  \n",
      " Mean   : 0.00000   Mean   : 0.0000   Mean   : 0.0000   Mean   : 0.00000  \n",
      " 3rd Qu.: 0.71081   3rd Qu.: 1.1193   3rd Qu.:-0.1063   3rd Qu.: 0.60649  \n",
      " Max.   : 4.69883   Max.   : 1.4476   Max.   :11.4551   Max.   : 4.31190  \n",
      "                                                                          \n",
      "  BsmtFullBath      BsmtHalfBath        FullBath          HalfBath      \n",
      " Min.   :-0.8372   Min.   :-0.2508   Min.   :-2.8828   Min.   :-0.7632  \n",
      " 1st Qu.:-0.8372   1st Qu.:-0.2508   1st Qu.:-1.0455   1st Qu.:-0.7632  \n",
      " Median :-0.8372   Median :-0.2508   Median : 0.7918   Median :-0.7632  \n",
      " Mean   : 0.0000   Mean   : 0.0000   Mean   : 0.0000   Mean   : 0.0000  \n",
      " 3rd Qu.: 1.0892   3rd Qu.:-0.2508   3rd Qu.: 0.7918   3rd Qu.: 1.2471  \n",
      " Max.   : 3.0156   Max.   : 6.3712   Max.   : 4.4665   Max.   : 3.2574  \n",
      "                                                                        \n",
      "  BedroomAbvGr      KitchenAbvGr      TotRmsAbvGrd       Fireplaces     \n",
      " Min.   :-3.6777   Min.   :-0.1709   Min.   :-3.0010   Min.   :-0.9367  \n",
      " 1st Qu.:-1.0883   1st Qu.:-0.1709   1st Qu.:-0.9841   1st Qu.:-0.9367  \n",
      " Median : 0.2064   Median :-0.1709   Median :-0.2173   Median : 0.6295  \n",
      " Mean   : 0.0000   Mean   : 0.0000   Mean   : 0.0000   Mean   : 0.0000  \n",
      " 3rd Qu.: 0.2064   3rd Qu.:-0.1709   3rd Qu.: 0.4469   3rd Qu.: 0.6295  \n",
      " Max.   : 4.0905   Max.   : 9.9272   Max.   : 3.8948   Max.   : 5.3280  \n",
      "                                                                        \n",
      "  GarageYrBlt         GarageCars       GarageArea        WoodDeckSF     \n",
      " Min.   :-3.13993   Min.   :-1.285   Min.   :-2.0559   Min.   :-0.9641  \n",
      " 1st Qu.:-0.73040   1st Qu.:-1.285   1st Qu.:-0.7701   1st Qu.:-0.9641  \n",
      " Median : 0.07278   Median : 0.205   Median :-0.0828   Median :-0.9641  \n",
      " Mean   : 0.00000   Mean   : 0.000   Mean   : 0.0000   Mean   : 0.0000  \n",
      " 3rd Qu.: 0.95245   3rd Qu.: 0.205   3rd Qu.: 0.4593   3rd Qu.: 1.0173  \n",
      " Max.   : 1.22017   Max.   : 4.675   Max.   : 5.0761   Max.   : 1.6507  \n",
      "                                                                        \n",
      "  OpenPorchSF      EnclosedPorch       3SsnPorch        ScreenPorch     \n",
      " Min.   :-1.1116   Min.   :-0.4245   Min.   :-0.1107   Min.   :-0.3203  \n",
      " 1st Qu.:-1.1116   1st Qu.:-0.4245   1st Qu.:-0.1107   1st Qu.:-0.3203  \n",
      " Median : 0.4606   Median :-0.4245   Median :-0.1107   Median :-0.3203  \n",
      " Mean   : 0.0000   Mean   : 0.0000   Mean   : 0.0000   Mean   : 0.0000  \n",
      " 3rd Qu.: 0.8787   3rd Qu.:-0.4245   3rd Qu.:-0.1107   3rd Qu.:-0.3203  \n",
      " Max.   : 1.8520   Max.   : 3.5027   Max.   :10.7311   Max.   : 3.9089  \n",
      "                                                                        \n",
      "    PoolArea           MiscVal            MoSold             YrSold       \n",
      " Min.   :-0.07063   Min.   :-0.1792   Min.   :-1.91609   Min.   :-1.3431  \n",
      " 1st Qu.:-0.07063   1st Qu.:-0.1792   1st Qu.:-0.81532   1st Qu.:-0.5883  \n",
      " Median :-0.07063   Median :-0.1792   Median :-0.08148   Median : 0.1666  \n",
      " Mean   : 0.00000   Mean   : 0.0000   Mean   : 0.00000   Mean   : 0.0000  \n",
      " 3rd Qu.:-0.07063   3rd Qu.:-0.1792   3rd Qu.: 0.65236   3rd Qu.: 0.9215  \n",
      " Max.   :15.46611   Max.   : 8.1388   Max.   : 2.12004   Max.   : 1.6763  \n",
      "                                                                          \n",
      "  MSZoningNum         StreetNum          LotShapeNum      LandContourNum   \n",
      " Min.   :-4.63871   Min.   :-17.70393   Min.   :-1.5628   Min.   :-3.9448  \n",
      " 1st Qu.:-0.05756   1st Qu.:  0.05646   1st Qu.:-1.5628   1st Qu.: 0.3147  \n",
      " Median :-0.05756   Median :  0.05646   Median : 0.6574   Median : 0.3147  \n",
      " Mean   : 0.00000   Mean   :  0.00000   Mean   : 0.0000   Mean   : 0.0000  \n",
      " 3rd Qu.:-0.05756   3rd Qu.:  0.05646   3rd Qu.: 0.6574   3rd Qu.: 0.3147  \n",
      " Max.   : 1.46949   Max.   :  0.05646   Max.   : 0.6574   Max.   : 0.3147  \n",
      "                                                                           \n",
      "  UtilitiesNum   LotConfigNum      LandSlopeNum     NeighborhoodNum   \n",
      " Min.   : NA    Min.   :-2.0191   Min.   :-0.2151   Min.   :-2.12902  \n",
      " 1st Qu.: NA    1st Qu.: 0.5424   1st Qu.:-0.2151   1st Qu.:-0.92796  \n",
      " Median : NA    Median : 0.5424   Median :-0.2151   Median :-0.07005  \n",
      " Mean   :NaN    Mean   : 0.0000   Mean   : 0.0000   Mean   : 0.00000  \n",
      " 3rd Qu.: NA    3rd Qu.: 0.5424   3rd Qu.:-0.2151   3rd Qu.: 0.78786  \n",
      " Max.   : NA    Max.   : 0.5424   Max.   : 7.5528   Max.   : 1.98892  \n",
      " NA's   :2202                                                         \n",
      " Condition1Num      Condition2Num        BldgTypeNum     HouseStyleNum    \n",
      " Min.   :-3.53906   Min.   :-15.13893   Min.   :-0.420   Min.   :-1.5712  \n",
      " 1st Qu.: 0.05007   1st Qu.:  0.01385   1st Qu.:-0.420   1st Qu.:-0.5204  \n",
      " Median : 0.05007   Median :  0.01385   Median :-0.420   Median :-0.5204  \n",
      " Mean   : 0.00000   Mean   :  0.00000   Mean   : 0.000   Mean   : 0.0000  \n",
      " 3rd Qu.: 0.05007   3rd Qu.:  0.01385   3rd Qu.:-0.420   3rd Qu.: 1.0558  \n",
      " Max.   : 4.79464   Max.   : 17.74147   Max.   : 2.711   Max.   : 2.1067  \n",
      "                                                                          \n",
      "  RoofStyleNum      RoofMatlNum       Exterior1stNum    Exterior2ndNum   \n",
      " Min.   :-2.4342   Min.   :-4.32551   Min.   :-3.0509   Min.   :-2.9080  \n",
      " 1st Qu.:-0.5032   1st Qu.:-0.09846   1st Qu.:-0.5306   1st Qu.:-0.6646  \n",
      " Median :-0.5032   Median :-0.09846   Median : 0.7295   Median : 0.7375  \n",
      " Mean   : 0.0000   Mean   : 0.00000   Mean   : 0.0000   Mean   : 0.0000  \n",
      " 3rd Qu.:-0.5032   3rd Qu.:-0.09846   3rd Qu.: 0.7295   3rd Qu.: 0.7375  \n",
      " Max.   : 3.5318   Max.   :11.35480   Max.   : 1.3596   Max.   : 1.2983  \n",
      "                                                                         \n",
      " MasVnrTypeNum      ExterQualNum      ExterCondNum     FoundationNum    \n",
      " Min.   :-2.8858   Min.   :-3.4109   Min.   :-5.0216   Min.   :-1.9376  \n",
      " 1st Qu.:-1.2763   1st Qu.:-0.6752   1st Qu.: 0.3638   1st Qu.:-0.5262  \n",
      " Median : 0.3333   Median : 0.6926   Median : 0.3638   Median :-0.5262  \n",
      " Mean   : 0.0000   Mean   : 0.0000   Mean   : 0.0000   Mean   : 0.0000  \n",
      " 3rd Qu.: 0.3333   3rd Qu.: 0.6926   3rd Qu.: 0.3638   3rd Qu.: 0.8852  \n",
      " Max.   : 1.9429   Max.   : 0.6926   Max.   : 0.3638   Max.   : 5.1194  \n",
      "                                                                        \n",
      "  BsmtQualNum       BsmtCondNum      BsmtExposureNum   BsmtFinType1Num  \n",
      " Min.   :-2.3864   Min.   :-4.1343   Min.   :-2.0130   Min.   :-1.5493  \n",
      " 1st Qu.:-0.2261   1st Qu.: 0.2886   1st Qu.:-0.2474   1st Qu.:-0.4404  \n",
      " Median :-0.2261   Median : 0.2886   Median : 0.6354   Median :-0.4404  \n",
      " Mean   : 0.0000   Mean   : 0.0000   Mean   : 0.0000   Mean   : 0.0000  \n",
      " 3rd Qu.: 0.8540   3rd Qu.: 0.2886   3rd Qu.: 0.6354   3rd Qu.: 1.2230  \n",
      " Max.   : 0.8540   Max.   : 0.2886   Max.   : 0.6354   Max.   : 1.2230  \n",
      "                                                                        \n",
      " BsmtFinType2Num    HeatingNum       HeatingQCNum     CentralAirNum    \n",
      " Min.   :-4.714   Min.   :-0.1047   Min.   :-0.8372   Min.   :-4.4457  \n",
      " 1st Qu.: 0.320   1st Qu.:-0.1047   1st Qu.:-0.8372   1st Qu.: 0.2248  \n",
      " Median : 0.320   Median :-0.1047   Median :-0.8372   Median : 0.2248  \n",
      " Mean   : 0.000   Mean   : 0.0000   Mean   : 0.0000   Mean   : 0.0000  \n",
      " 3rd Qu.: 0.320   3rd Qu.:-0.1047   3rd Qu.: 1.4824   3rd Qu.: 0.2248  \n",
      " Max.   : 0.320   Max.   :19.0762   Max.   : 1.4824   Max.   : 0.2248  \n",
      "                                                                       \n",
      " ElectricalNum     KitchenQualNum    FunctionalNum     GarageTypeNum    \n",
      " Min.   :-3.6187   Min.   :-2.6621   Min.   :-6.5421   Min.   :-1.2910  \n",
      " 1st Qu.: 0.2898   1st Qu.:-0.3533   1st Qu.: 0.2402   1st Qu.:-0.7423  \n",
      " Median : 0.2898   Median :-0.3533   Median : 0.2402   Median :-0.7423  \n",
      " Mean   : 0.0000   Mean   : 0.0000   Mean   : 0.0000   Mean   : 0.0000  \n",
      " 3rd Qu.: 0.2898   3rd Qu.: 0.8010   3rd Qu.: 0.2402   3rd Qu.: 1.4525  \n",
      " Max.   : 0.2898   Max.   : 0.8010   Max.   : 0.2402   Max.   : 1.4525  \n",
      "                                                                        \n",
      " GarageFinishNum   GarageQualNum     GarageCondNum     PavedDriveNum    \n",
      " Min.   :-1.4551   Min.   :-5.5261   Min.   :-7.4932   Min.   :-4.0008  \n",
      " 1st Qu.:-1.4551   1st Qu.: 0.2533   1st Qu.: 0.1884   1st Qu.: 0.2758  \n",
      " Median :-0.2349   Median : 0.2533   Median : 0.1884   Median : 0.2758  \n",
      " Mean   : 0.0000   Mean   : 0.0000   Mean   : 0.0000   Mean   : 0.0000  \n",
      " 3rd Qu.: 0.9852   3rd Qu.: 0.2533   3rd Qu.: 0.1884   3rd Qu.: 0.2758  \n",
      " Max.   : 0.9852   Max.   : 0.2533   Max.   : 0.1884   Max.   : 0.2758  \n",
      "                                                                        \n",
      "  SaleTypeNum      SaleConditionNum \n",
      " Min.   :-4.6924   Min.   :-3.6552  \n",
      " 1st Qu.: 0.3366   1st Qu.: 0.1666  \n",
      " Median : 0.3366   Median : 0.1666  \n",
      " Mean   : 0.0000   Mean   : 0.0000  \n",
      " 3rd Qu.: 0.3366   3rd Qu.: 0.1666  \n",
      " Max.   : 0.3366   Max.   : 1.1221  \n",
      "                                    \n",
      "Train has 1460 rows and 81 columns.NULL\n",
      "Test has 1459 rows and 80  columns.NULL\n",
      "The number of row duplicates: 0"
     ]
    },
    {
     "data": {
      "image/png": "[encoded data removed]",
      "text/plain": [
       "Plot with title “LotFrontage: Mice Imputed Data”"
      ]
     },
     "metadata": {},
     "output_type": "display_data"
    },
    {
     "data": {
      "image/png": "[encoded data removed]",
      "text/plain": [
       "Plot with title “Sale Price: skewness corrected Data”"
      ]
     },
     "metadata": {},
     "output_type": "display_data"
    },
    {
     "data": {
      "image/png": "[encoded data removed]",
      "text/plain": [
       "Plot with title “GarageYrBlt: Mice Imputed Data”"
      ]
     },
     "metadata": {},
     "output_type": "display_data"
    },
    {
     "data": {
      "image/png": "[encoded data removed]",
      "text/plain": [
       "plot without title"
      ]
     },
     "metadata": {},
     "output_type": "display_data"
    },
    {
     "data": {
      "image/png": "[encoded data removed]",
      "text/plain": [
       "plot without title"
      ]
     },
     "metadata": {},
     "output_type": "display_data"
    },
    {
     "data": {
      "image/png": "[encoded data removed]",
      "text/plain": [
       "plot without title"
      ]
     },
     "metadata": {},
     "output_type": "display_data"
    },
    {
     "data": {
      "image/png": "[encoded data removed]",
      "text/plain": [
       "plot without title"
      ]
     },
     "metadata": {},
     "output_type": "display_data"
    },
    {
     "data": {
      "image/png": "[encoded data removed]",
      "text/plain": [
       "plot without title"
      ]
     },
     "metadata": {},
     "output_type": "display_data"
    }
   ],
   "source": [
    "library(data.table)\n",
    "library(xgboost)\n",
    "library(Metrics)\n",
    "library(Matrix)\n",
    "library(mice)\n",
    "library(dplyr)\n",
    "library('ggplot2')\n",
    "library('ggthemes')\n",
    "library('scales')\n",
    "library(bit64)  # may be needed for fread() for bit64::integer64 type properly displayed\n",
    "library(moments)  # imports skewness\n",
    "library(caret)\n",
    "library(gridExtra)\n",
    "library(cowplot)\n",
    "library(lattice)\n",
    "# library(Hmisc)  # not working\n",
    "# library(Formula)\n",
    "# library(VIM)\n",
    "\n",
    "HousePrices <- setClass(\n",
    "              # Set name of class\n",
    "              \"HousePrices\",\n",
    "              \n",
    "              # Define slots\n",
    "              slots = c(\n",
    "                        df = \"data.frame\",\n",
    "                        df_test = \"data.frame\",\n",
    "                        # df_train_test_merged = \"numeric\"\n",
    "                        numerical_feature_names = \"character\",\n",
    "                        non_numerical_feature_names = \"character\",\n",
    "                        feature_names_num = \"character\",\n",
    "                        is_one_hot_encoder = \"logical\",\n",
    "                        is_with_log1p_SalePrice = \"logical\"\n",
    "                        \n",
    "                        ),\n",
    "              \n",
    "              # Set default values\n",
    "              prototype=list(\n",
    "                    df = fread('/home/mizio/Documents/Kaggle/HousePrices/train.csv', showProgress = T, data.table = FALSE),\n",
    "                    # df = read.csv('/home/mizio/Documents/Kaggle/HousePrices/train.csv', stringsAsFactors = T),\n",
    "                    df_test = fread('/home/mizio/Documents/Kaggle/HousePrices/test.csv', showProgress = T, data.table = FALSE),\n",
    "                    # df_test = read.csv('/home/mizio/Documents/Kaggle/HousePrices/test.csv', stringsAsFactors = T)\n",
    "                    # y_train = df$SalePrice\n",
    "                    numerical_feature_names = c(),\n",
    "                    non_numerical_feature_names = c(),\n",
    "                    feature_names_num = c(),\n",
    "                    is_one_hot_encoder = F,\n",
    "                    is_with_log1p_SalePrice = F\n",
    "                    \n",
    "                    # Merge training and test data together\n",
    "                    # df_train_test_merged = merge_train_and_test_dataframe(df, df_test)\n",
    "                    )\n",
    "              )\n",
    "\n",
    "setGeneric(name=\"merge_train_and_test_dataframe\",\n",
    "                                           def=function(theObject, df, df_test)\n",
    "                                           {\n",
    "                                                    standardGeneric(\"merge_train_and_test_dataframe\")\n",
    "                                           }\n",
    "                                           )\n",
    "\n",
    "setMethod(f=\"merge_train_and_test_dataframe\",\n",
    "                                          signature=\"HousePrices\",\n",
    "                                          definition=function(theObject, df, df_test)\n",
    "                                          {\n",
    "                                                    # Remove Id feature and SalePrice (stored in y_train)\n",
    "                                                    df$Id <- NULL\n",
    "                                                    df$SalePrice <- NULL\n",
    "                                                    # Id_column = test_data$Id\n",
    "                                                    df_test$Id <- NULL\n",
    "                                                    return(rbind(df, df_test))\n",
    "                                          }\n",
    "                                          )\n",
    "\n",
    "setGeneric(name=\"drop_variable_before_preparation\",\n",
    "                                         def=function(theObject, df)\n",
    "                                         {\n",
    "                                                    standardGeneric(\"drop_variable_before_preparation\")\n",
    "                                         }\n",
    "                                         )\n",
    "\n",
    "setMethod(f=\"drop_variable_before_preparation\",\n",
    "                                        signature=\"HousePrices\",\n",
    "                                        definition=function(theObject, df)\n",
    "                                        {\n",
    "                                                    # Drop features that have certain procentage of missing values considering the training data and test, \n",
    "                                                    # since they will undergo imputation together.\n",
    "                                                    # print(colSums(is.na(df)))\n",
    "                                                    number_of_missing_values_in_features <- colSums(is.na(df))\n",
    "                                                    features_with_many_missing_values <- character(0)\n",
    "                                                    features_in_df <- names(df)\n",
    "                                                    for(feature in features_in_df)\n",
    "                                                      {\n",
    "                                                      if(number_of_missing_values_in_features[[feature]] >= 0.3*nrow(df))\n",
    "                                                        {\n",
    "                                                        features_with_many_missing_values <- append(features_with_many_missing_values, feature)\n",
    "                                                        }\n",
    "                                                      }\n",
    "                                                    print(features_with_many_missing_values)\n",
    "                                                    df <- df[, !(names(df) %in% features_with_many_missing_values)]\n",
    "                                                    return(df)\n",
    "                                        }\n",
    "                                        )\n",
    "\n",
    "setGeneric(name=\"clean_data\",\n",
    "                       def=function(theObject, df)\n",
    "                       {\n",
    "                                  standardGeneric(\"clean_data\")\n",
    "                       }\n",
    "                       )\n",
    "\n",
    "setMethod(f=\"clean_data\",\n",
    "                      signature=\"HousePrices\",\n",
    "                      definition=function(theObject, df)\n",
    "                      {\n",
    "                                  if(sum(is.na(df)) > 0)\n",
    "                                  {\n",
    "                                    is_with_MICE <- F\n",
    "                                    if(is_with_MICE)\n",
    "                                    {\n",
    "                                      # Imputation with MICE\n",
    "                                      set.seed(0)\n",
    "                                      df <- as.data.frame(df)\n",
    "                                      df_imputed <- complete(mice(df))  # method='rf'))\n",
    "                                    } else\n",
    "                                    {\n",
    "                                      # Remove all rows with NA values\n",
    "                                      df_imputed <- df[complete.cases(df),]\n",
    "                                    }\n",
    "                                    \n",
    "                                  }\n",
    "                                  return(df_imputed)\n",
    "                      }\n",
    "                      )\n",
    "\n",
    "setGeneric(name=\"numerical_feature_logical\",\n",
    "                                          def=function(theObject, df)\n",
    "                                          {\n",
    "                                                      standardGeneric(\"numerical_feature_logical\")\n",
    "                                          }\n",
    "                                          )\n",
    "\n",
    "setMethod(f=\"numerical_feature_logical\",\n",
    "                                      signature=\"HousePrices\",\n",
    "                                      definition=function(theObject, df)\n",
    "                                      {\n",
    "                                                  # Numeric data types in R: 'numeric', 'integer'\n",
    "                                                  numerical_features <- data.frame(logical(dim(df)[2]), row.names = names(df))\n",
    "                                                  for(feature in rownames(numerical_features))\n",
    "                                                  {\n",
    "                                                    # if(class(df[, get(feature)]) == \"numeric\" || class(df[, get(feature)]) == \"integer\")\n",
    "                                                    if(class(df[, feature]) == \"numeric\" || class(df[, feature]) == \"integer\")\n",
    "                                                    {\n",
    "                                                      numerical_features[feature,] = T\n",
    "                                                    }\n",
    "                                                  }\n",
    "                                                  # Feature names with True\n",
    "                                                  # browser()\n",
    "                                                  return(numerical_features)\n",
    "                                      }\n",
    "                                      )\n",
    "\n",
    "setGeneric(name=\"extract_numerical_features\",\n",
    "                                       def=function(theObject, numerical_features)\n",
    "                                       {\n",
    "                                                  standardGeneric(\"extract_numerical_features\")\n",
    "                                       }\n",
    "                                       )\n",
    "\n",
    "setMethod(f=\"extract_numerical_features\",\n",
    "                                      signature=\"HousePrices\",\n",
    "                                      definition=function(theObject, numerical_features)\n",
    "                                      {\n",
    "                                                  mask_index <- which(numerical_features$logical.dim.df..2..)\n",
    "                                                  return(rownames(numerical_features)[mask_index])\n",
    "                                      }\n",
    "                                      )\n",
    "\n",
    "setGeneric(name=\"extract_non_numerical_features\",\n",
    "                                             def=function(theObject, numerical_features)\n",
    "                                             {\n",
    "                                                        standardGeneric(\"extract_non_numerical_features\")\n",
    "                                             }\n",
    "                                             )\n",
    "\n",
    "setMethod(f=\"extract_non_numerical_features\",\n",
    "                                          signature=\"HousePrices\",\n",
    "                                          definition=function(theObject, numerical_features)\n",
    "                                          {\n",
    "                                                        mask_index <- which(numerical_features$logical.dim.df..2.. == F)\n",
    "                                                        return(rownames(numerical_features)[mask_index])\n",
    "                                          }\n",
    "                                          )\n",
    "\n",
    "setGeneric(name=\"encode_labels_in_numeric_format\",\n",
    "           def=function(theObject, df, feature)\n",
    "           {\n",
    "                      standardGeneric(\"encode_labels_in_numeric_format\")\n",
    "           }\n",
    "           )\n",
    "setMethod(f=\"encode_labels_in_numeric_format\",\n",
    "          signature=\"HousePrices\",\n",
    "          definition=function(theObject, df, feature)\n",
    "          {\n",
    "            # Encode categorical features as integers\n",
    "            # browser()\n",
    "            feature_name_num <- paste0(feature, 'Num', collapse='')\n",
    "            levels <- sort(unique(df[[feature]]))\n",
    "            df[[feature_name_num]] <- as.integer(factor(df[[feature]], levels=levels))\n",
    "            return(df)\n",
    "          }\n",
    "          )\n",
    "\n",
    "setGeneric(name=\"one_hot_encoder\",\n",
    "                             def=function(theObject, df, feature)\n",
    "                             {\n",
    "                                        standardGeneric(\"one_hot_encoder\")\n",
    "                             }\n",
    "                             )\n",
    "\n",
    "setMethod(f=\"one_hot_encoder\",\n",
    "                          signature=\"HousePrices\",\n",
    "                          definition=function(theObject, df, feature)\n",
    "                          {\n",
    "                            levels <- sort(unique(df[[feature]]))\n",
    "                            levels_num <- lapply(levels, function(x) paste0(feature, x, collapse=''))\n",
    "                            feature_num <- paste0(feature, 'Num', collapse='')\n",
    "                            ith <- 1\n",
    "                            # browser()\n",
    "                            for(level in levels_num)\n",
    "                            {\n",
    "                              df[level] <- as.integer(df[feature_num] == ith)\n",
    "                              ith <- ith + 1\n",
    "                            }\n",
    "                            \n",
    "                            # df_all_dummy <- acm.disjonctif(df[feature])\n",
    "                            # df[feature] <- NULL\n",
    "                            # df <- cbind(df, df_all_dummy)\n",
    "                            return(df)\n",
    "                            \n",
    "                          }\n",
    "                          )\n",
    "\n",
    "setGeneric(name=\"feature_mapping_to_numerical_values\",\n",
    "                                                   def=function(theObject, df)\n",
    "                                                   {\n",
    "                                                              standardGeneric(\"feature_mapping_to_numerical_values\")\n",
    "                                                   }\n",
    "                                                   )\n",
    "\n",
    "setMethod(f=\"feature_mapping_to_numerical_values\",\n",
    "                                              signature=\"HousePrices\",\n",
    "                                              definition=function(theObject, df)\n",
    "                                              {\n",
    "                                                ith <- 1\n",
    "                                                for(feature in theObject@non_numerical_feature_names)\n",
    "                                                {\n",
    "                                                  df <- encode_labels_in_numeric_format(theObject, df, feature)\n",
    "                                                  \n",
    "                                                  if(theObject@is_one_hot_encoder)\n",
    "                                                  {\n",
    "                                                    df <- one_hot_encoder(theObject, df, feature)\n",
    "                                                  }\n",
    "                                                }\n",
    "                                                return(df)\n",
    "                                              }\n",
    "                                              )\n",
    "\n",
    "setGeneric(name=\"feature_names_num\",\n",
    "           def=function(theObject, df)\n",
    "           {\n",
    "             standardGeneric(\"feature_names_num\")\n",
    "           }\n",
    "           )\n",
    "\n",
    "setMethod(f=\"feature_names_num\",\n",
    "          signature=\"HousePrices\",\n",
    "          definition=function(theObject, df)\n",
    "          {\n",
    "            feature_names_num <- vector(\"character\", length=length(theObject@non_numerical_feature_names))\n",
    "            ith <- 1\n",
    "            for(feature in theObject@non_numerical_feature_names)\n",
    "            {\n",
    "              feature_name_num <- paste0(feature, 'Num', collapse='')\n",
    "              feature_names_num[ith] <- feature_name_num\n",
    "              ith = ith + 1\n",
    "            }\n",
    "            return(feature_names_num)\n",
    "          }\n",
    "          )\n",
    "\n",
    "setGeneric(name=\"drop_features_num\",\n",
    "           def=function(theObject, df)\n",
    "           {\n",
    "             standardGeneric(\"drop_features_num\")\n",
    "           }\n",
    "           )\n",
    "\n",
    "setMethod(f=\"drop_features_num\",\n",
    "          signature=\"HousePrices\",\n",
    "          definition=function(theObject, df)\n",
    "          {\n",
    "            df <- df[, !(names(df) %in% theObject@feature_names_num)]\n",
    "            return(df)\n",
    "          }\n",
    "          )\n",
    "\n",
    "setGeneric(name=\"get_is_one_hot_encoder\",\n",
    "                                     def=function(theObject)\n",
    "                                     {\n",
    "                                                standarGeneric(\"get_is_one_hot_encoder\")\n",
    "                                     }\n",
    "                                     )\n",
    "\n",
    "setMethod(f=\"get_is_one_hot_encoder\",\n",
    "                                  signature=\"HousePrices\",\n",
    "                                  definition=function(theObject)\n",
    "                                  {\n",
    "                                    return(theObject@is_one_hot_encoder)\n",
    "                                  }\n",
    "                                  )\n",
    "\n",
    "setGeneric(name=\"set_is_one_hot_encoder\",\n",
    "                                     def=function(theObject, is_one_hot_encoder)\n",
    "                                     {\n",
    "                                       standarGeneric(\"set_is_one_hot_encoder\")\n",
    "                                     }\n",
    "                                     )\n",
    "\n",
    "setMethod(f=\"set_is_one_hot_encoder\",\n",
    "                                  signature=\"HousePrices\",\n",
    "                                  definition=function(theObject, is_one_hot_encoder)\n",
    "                                  {\n",
    "                                    theObject@is_one_hot_encoder <- is_one_hot_encoder\n",
    "                                    return(theObject)\n",
    "                                  }\n",
    "                                  )\n",
    "\n",
    "setGeneric(name=\"skew_correction\",\n",
    "           def=function(theObject, df)\n",
    "           {\n",
    "             standardGeneric(\"skew_correction\")\n",
    "           }\n",
    "           )\n",
    "\n",
    "setMethod(f=\"skew_correction\",\n",
    "          signature=c(\"HousePrices\", \"data.frame\"),\n",
    "          definition=function(theObject, df)\n",
    "          {\n",
    "            skewed_feats <- lapply(df, function(x) skewness(x[!is.na(x)]))  # compute skewness\n",
    "            skewed_feats <- skewed_feats[skewed_feats > 0.75]\n",
    "            skewed_feats = names(skewed_feats)\n",
    "            df[, skewed_feats] <- log1p(df[skewed_feats])\n",
    "            return(df)\n",
    "          }\n",
    "          )\n",
    "\n",
    "setMethod(f=\"skew_correction\",\n",
    "          signature=c(\"HousePrices\", \"integer\"),\n",
    "          definition=function(theObject, df)\n",
    "          {\n",
    "            # browser()\n",
    "            is_skewed_feat <- skewness(df) > 0.75  # compute skewness\n",
    "            if(is_skewed_feat)\n",
    "            {\n",
    "              df <- log1p(df)\n",
    "            }\n",
    "            return(df)\n",
    "          }\n",
    "          )\n",
    "\n",
    "setGeneric(name=\"feature_engineering\",\n",
    "           def=function(theObject, df)\n",
    "           {\n",
    "             standardGeneric(\"feature_engineering\")\n",
    "           }\n",
    "           )\n",
    "\n",
    "setMethod(f=\"feature_engineering\",\n",
    "          signature=\"HousePrices\",\n",
    "          definition=function(theObject, df)\n",
    "          {\n",
    "            is_skewness_correction_for_all_features <-  1\n",
    "            if(is_skewness_correction_for_all_features)\n",
    "            {\n",
    "              # Correcting for skewness\n",
    "              # Treat all numerical variables that were not one-hot encoded\n",
    "              numerical_feature_names_of_non_modified_df <- theObject@numerical_feature_names\n",
    "              if(!(theObject@is_one_hot_encoder))\n",
    "              {\n",
    "                numerical_feature_names_of_non_modified_df <- c(theObject@feature_names_num, \n",
    "                                                                numerical_feature_names_of_non_modified_df)\n",
    "              }\n",
    "              relevant_features <- numerical_feature_names_of_non_modified_df\n",
    "              df[, relevant_features] <- skew_correction(theObject, df[, relevant_features])\n",
    "            } else\n",
    "            {\n",
    "                # Only scale down sale price and leave other numerical features standardized.\n",
    "                if(any(names(df) %in% 'SalePrice'))\n",
    "                {\n",
    "                  df$SalePrice <- log1p(df$SalePrice)\n",
    "                }\n",
    "            }\n",
    "            return(df)\n",
    "          }\n",
    "          )\n",
    "\n",
    "setGeneric(name=\"feature_scaling\",\n",
    "           def=function(theObject, df)\n",
    "           {\n",
    "             standardGeneric(\"feature_scaling\")\n",
    "           }\n",
    "           )\n",
    "\n",
    "setMethod(f=\"feature_scaling\",\n",
    "          signature=\"HousePrices\",\n",
    "          definition=function(theObject, df)\n",
    "          {\n",
    "            is_scaling_for_all_features <-  1\n",
    "            if(is_scaling_for_all_features)\n",
    "            {\n",
    "              # Correcting for skewness\n",
    "              # Treat all numerical variables that were not one-hot encoded\n",
    "              numerical_feature_names_of_non_modified_df <- theObject@numerical_feature_names\n",
    "              if(!(theObject@is_one_hot_encoder))\n",
    "              {\n",
    "                numerical_feature_names_of_non_modified_df <- c(theObject@feature_names_num, \n",
    "                                                                numerical_feature_names_of_non_modified_df)\n",
    "              }\n",
    "              relevant_features <- numerical_feature_names_of_non_modified_df\n",
    "              df[, relevant_features] <- scale(df[, relevant_features])\n",
    "            } else\n",
    "            {\n",
    "              # Only scale down sale price and leave other numerical features standardized.\n",
    "              if(any(names(df) %in% 'SalePrice'))\n",
    "              {\n",
    "                df$SalePrice <- scale(df$SalePrice)\n",
    "              }\n",
    "            }\n",
    "            return(df)\n",
    "          }\n",
    "          )\n",
    "\n",
    "setGeneric(name=\"plot_histogram\",\n",
    "           def=function(theObject, df, feature_col_index)\n",
    "           {\n",
    "             standardGeneric(\"plot_histogram\")\n",
    "           }\n",
    "           )\n",
    "\n",
    "setMethod(f=\"plot_histogram\",\n",
    "          signature=\"HousePrices\",\n",
    "          definition=function(theObject, df, feature_col_index)\n",
    "          {\n",
    "            return(ggplot(data=df[feature_col_index], aes(x=factor(df[[feature_col_index]]))) + \n",
    "                     stat_count() + xlab(colnames(df[feature_col_index])) + theme_light() + theme(axis.text.x=element_text(angle=90, hjust=1)))\n",
    "          }\n",
    "          )\n",
    "\n",
    "setGeneric(name=\"plot_function\",\n",
    "           def=function(theObject, df, function_to_plot, feature_column_indices, ncol=2)\n",
    "           {\n",
    "             standardGeneric(\"plot_function\")\n",
    "           }\n",
    "           )\n",
    "\n",
    "setMethod(f=\"plot_function\",\n",
    "          signature=\"HousePrices\",\n",
    "          definition=function(theObject, df, function_to_plot, feature_column_indices, ncol=2)\n",
    "          {\n",
    "            feature_plots <- list()\n",
    "            for(ite in feature_column_indices)\n",
    "            {\n",
    "              feature_plot <- function_to_plot(theObject, df=df, feature_col_index=ite)\n",
    "              feature_plots <- c(feature_plots, list(feature_plot))\n",
    "            }\n",
    "            do.call(\"grid.arrange\", c(feature_plots, ncol=ncol))\n",
    "          }\n",
    "          )\n",
    "\n",
    "setGeneric(name=\"plot_density\",\n",
    "           def=function(theObject, df, feature_col_index, target_column_name)\n",
    "           {\n",
    "             standardGeneric(\"plot_density\")\n",
    "           }\n",
    "           )\n",
    "\n",
    "setMethod(f=\"plot_density\",\n",
    "          signature=\"HousePrices\",\n",
    "          definition=function(theObject, df, feature_col_index, target_column_name)\n",
    "          {\n",
    "            # Todo: check if commented version has error\n",
    "            # df_to_plot <- data.frame(x=df[[feature_col_index]], SalePrice=df[, target_column_name])\n",
    "            # feature_plot <- ggplot(data=df_to_plot) + geom_line(aes(x=df[[feature_col_index]]), stat='Sale price density', size=1, alpha=1.0) +\n",
    "            #   xlab(paste0((colnames(df[[feature_col_index]])), '\\n', 'Skewness: ', round(skewness(df[[feature_col_index]], na.rm=T), 2))) +\n",
    "            #   theme_light()\n",
    "            feature_plot <- ggplot(data=df_to_plot) + geom_line(aes(x=x), stat='Sale price density', size=1, alpha=1.0) +\n",
    "              xlab(paste0((colnames(df[[feature_col_index]])), '\\n', 'Skewness: ', round(skewness(df[[feature_col_index]], na.rm=T), 2))) +\n",
    "              theme_light()\n",
    "            return(feature_plot)\n",
    "          }\n",
    "          )\n",
    "\n",
    "setGeneric(name=\"prepare_data\",\n",
    "                          def=function(theObject, df)\n",
    "                          {\n",
    "                                      standardGeneric(\"prepare_data\")\n",
    "                          }\n",
    "                          )\n",
    "\n",
    "setMethod(f=\"prepare_data\", \n",
    "                        signature=\"HousePrices\",\n",
    "                        definition=function(theObject, df)\n",
    "                        {\n",
    "                          df <- drop_variable_before_preparation(theObject, df)\n",
    "                          # browser()\n",
    "                          numerical_feature_log <- numerical_feature_logical(theObject, df)\n",
    "                          theObject@non_numerical_feature_names <- extract_non_numerical_features(theObject, numerical_feature_log)\n",
    "                          theObject@numerical_feature_names <- extract_numerical_features(theObject, numerical_feature_log)\n",
    "                          # theObject@is_one_hot_encoder <- T\n",
    "                          # theObject@is_with_log1p_SalePrice <- T\n",
    "                          \n",
    "                          is_not_import_data <- 1\n",
    "                          if(is_not_import_data)\n",
    "                          {\n",
    "                            # browser()\n",
    "                            theObject@feature_names_num <- feature_names_num(theObject, df)\n",
    "                            df <- feature_mapping_to_numerical_values(theObject, df)\n",
    "                            if(theObject@is_one_hot_encoder)\n",
    "                            {\n",
    "                              df <- drop_features_num(theObject, df)\n",
    "                            }\n",
    "                            df <- feature_engineering(theObject, df)\n",
    "                            df <- clean_data(theObject, df)\n",
    "                            df <- feature_scaling(theObject, df)\n",
    "                            # browser()\n",
    "                          }\n",
    "                          return(df)\n",
    "                        }\n",
    "                        )\n",
    "\n",
    "# Todo: implement get and set in encapsulated form for public variables in constructor\n",
    "# using ex. theObject@class_var (obs. '@' works on instance like '.' in python)\n",
    "\n",
    "if(T)\n",
    "  {\n",
    "  options(error=recover, show.error.locations=TRUE, warn=2)\n",
    "  \n",
    "  # Create instance of class\n",
    "  house_prices <- HousePrices()  # , is_with_log1p_SalePrice=T)\n",
    "  house_prices@is_one_hot_encoder <- F\n",
    "  house_prices@is_with_log1p_SalePrice <- T\n",
    "\n",
    "  # house_prices <- new(\"HousePrices\", is_one_hot_encoder=T)#, is_with_log1p_SalePrice=T)\n",
    "  is.object(house_prices)\n",
    "  isS4(house_prices)\n",
    "  \n",
    "  # Create object to load data\n",
    "  df <- slot(house_prices, \"df\") \n",
    "  df_test <- slot(house_prices, \"df_test\")\n",
    "  y_train <- df$SalePrice\n",
    "  \n",
    "  ## Prepare data\n",
    "  # Merge training and test data together\n",
    "  train_test_merged <- merge_train_and_test_dataframe(house_prices, df, df_test)\n",
    "  # Number of rows in training data for later splitting\n",
    "  rows_in_train <- nrow(df)\n",
    "  features_in_train <- names(df)\n",
    "  train_test_merged_prepared <- prepare_data(house_prices, train_test_merged)\n",
    "  y_train_prepared <- skew_correction(house_prices, y_train)\n",
    "  \n",
    "  # Extracting numerical feature columns\n",
    "  train_test_merged_prepared_numerical_feature_log <- numerical_feature_logical(house_prices, train_test_merged_prepared)\n",
    "  train_test_merged_prepared_numerical_features <- extract_numerical_features(house_prices, train_test_merged_prepared_numerical_feature_log)\n",
    "  # Extracting non numerical feature columns\n",
    "  train_test_merged_prepared_non_numerical_features <- extract_non_numerical_features(house_prices, train_test_merged_prepared_numerical_feature_log)\n",
    "  train_test_merged_prepared_only_categorical <- train_test_merged_prepared[, train_test_merged_prepared_non_numerical_features]\n",
    "  train_test_merged_prepared <- train_test_merged_prepared[, train_test_merged_prepared_numerical_features]\n",
    "\n",
    "  # Splitting merged data set\n",
    "  x_train <- train_test_merged_prepared[1:rows_in_train,]\n",
    "  x_test <- train_test_merged_prepared[(rows_in_train + 1):nrow(train_test_merged_prepared),]\n",
    "  \n",
    "  # Casting all types to numeric type (also integer)\n",
    "  x_train[] <- lapply(x_train, as.numeric)\n",
    "  x_test[] <- lapply(x_test, as.numeric)\n",
    "  \n",
    "  is_explore_data <- T\n",
    "  if(is_explore_data)\n",
    "  {\n",
    "    # Information of df before preperation\n",
    "    print(sort(sapply(train_test_merged, function(x) sum(is.na(x))), decreasing = TRUE))\n",
    "    # print(colSums(is.na(train_test_merged)))\n",
    "    print(summary(train_test_merged))\n",
    "    \n",
    "    # Check df after preparation\n",
    "    print('After preperation =================')\n",
    "    print(colSums(is.na(train_test_merged_prepared)))\n",
    "    print(summary(train_test_merged_prepared))\n",
    "    \n",
    "    print(cat('Train has', dim(df)[1], 'rows and', dim(df)[2], 'columns.'))\n",
    "    print(cat('Test has', dim(df_test)[1], 'rows and', dim(df_test)[2], ' columns.'))\n",
    "    \n",
    "    # The percentage of data missing in train.\n",
    "    sum(is.na(df)) / (nrow(df) *ncol(df))\n",
    "    \n",
    "    # The percentage of data missing in test.\n",
    "    sum(is.na(df_test)) / (nrow(df_test) * ncol(df_test))\n",
    "    \n",
    "    # Check if any duplicate rows\n",
    "    cat(\"The number of row duplicates:\", nrow(df) - nrow(unique(df)))\n",
    "    \n",
    "    # Check how distributions change after imputation\n",
    "    # Plot LotFrontage price distributions\n",
    "    par(mfrow=c(1,2))\n",
    "    hist(train_test_merged$LotFrontage, freq=F, main='LotFrontage: Original Data', \n",
    "         col='darkgreen')\n",
    "    hist(train_test_merged_prepared$LotFrontage, freq=F, main='LotFrontage: Mice Imputed Data', \n",
    "         col='lightgreen')\n",
    "    \n",
    "    # Check how distributions change after imputation\n",
    "    # Plot LotFrontage price distributions\n",
    "    par(mfrow=c(1,2))\n",
    "    hist(y_train, freq=F, main='Sale Price: Original Data', \n",
    "         col='darkgreen')\n",
    "    hist(y_train_prepared, freq=F, main='Sale Price: skewness corrected Data', \n",
    "         col='lightgreen')\n",
    "    \n",
    "    # Plot GarageYrBlt price distributions\n",
    "    par(mfrow=c(1,2))\n",
    "    hist(train_test_merged$GarageYrBlt, freq=F, main='GarageYrBlt: Original Data', \n",
    "         col='darkgreen')\n",
    "    hist(train_test_merged_prepared$GarageYrBlt, freq=F, main='GarageYrBlt: Mice Imputed Data', \n",
    "         col='lightgreen')\n",
    "    \n",
    "    is_clustering <- 0\n",
    "    if(is_clustering)\n",
    "    {\n",
    "      hel =1\n",
    "      # train_test_merged_prepared_clustered <- varclus(x_train, similarity=\"spearman\", minlev=0.05)\n",
    "      # train_test_merged_prepared_clustered <- varclus(as.matrix(train_test_merged_prepared), similarity=\"spearman\", minlev=0.05)\n",
    "      # plot(train_test_merged_prepared_clustered, cex=0.5)\n",
    "    }\n",
    "    \n",
    "    \n",
    "    is_categorical_feature_plots <- T\n",
    "    if(is_categorical_feature_plots)\n",
    "    {\n",
    "      # Todo: implement categorical feature plots\n",
    "      \n",
    "      #Bar plots\n",
    "      # Categorical features are in total 38\n",
    "      plot_function(house_prices, df[, train_test_merged_prepared_non_numerical_features], plot_histogram, 1:4, 2)\n",
    "      plot_function(house_prices, df[, train_test_merged_prepared_non_numerical_features], plot_histogram, 5:8, 2)\n",
    "      plot_function(house_prices, df[, train_test_merged_prepared_non_numerical_features], plot_histogram, 9:13, 2)\n",
    "      plot_function(house_prices, df[, train_test_merged_prepared_non_numerical_features], plot_histogram, 14:17, 2)\n",
    "      plot_function(house_prices, df[, train_test_merged_prepared_non_numerical_features], plot_histogram, 18:21, 2)\n",
    "    }\n",
    "    \n",
    "  }\n",
    "  \n",
    "  \n",
    "  is_test_functions <- F\n",
    "  if(is_test_functions)\n",
    "  {\n",
    "    # Testing functions\n",
    "    # numerical_feature_log <- numerical_feature_logical(house_prices, df)\n",
    "    # df_num <- extract_numerical_features(house_prices, numerical_feature_log)\n",
    "  }\n",
    "  \n",
    "  is_make_prediction <- F\n",
    "  if(is_make_prediction)\n",
    "  {\n",
    "    \n",
    "    is_xgb_cv <- T\n",
    "    if(is_xgb_cv)\n",
    "    {\n",
    "      # --- xgboost ---\n",
    "      save_path <- '/home/mizio/Documents/Kaggle/HousePrices/submission/'\n",
    "      dtrain <- xgb.DMatrix(as.matrix(x_train), label=y_train_prepared)\n",
    "      dtest <- xgb.DMatrix(as.matrix(x_test))\n",
    "      \n",
    "      # Saving xgb.DMatrix\n",
    "      xgb.DMatrix.save(dtrain, paste0(save_path, \"dtrain.buffer\", collapse=''))\n",
    "      xgb.DMatrix.save(dtest, paste0(save_path, \"dtest.buffer\", collapse=''))\n",
    "      # Loading xgb.DMatrix\n",
    "      # dtrain2 <- xgb.DMatrix(paste0(save_path, \"dtrain.buffer\", collapse=''))\n",
    "      # dtest2 <-  xgb.DMatrix(paste0(save_path, \"dtest.buffer\", collapse=''))\n",
    "      \n",
    "      # Params aggressive and prone to overfitting\n",
    "      # xgb_params <- list(\n",
    "      #   seed = 0,\n",
    "      #   colsample_bytree = 0.8,\n",
    "      #   silent = 1,\n",
    "      #   subsample = 0.6,\n",
    "      #   # learning_rate = 0.01,\n",
    "      #   eta = 0.06,  # low value means it is more robust to overfitting\n",
    "      #   # objective = 'reg:linear',\n",
    "      #   max_depth = 15,\n",
    "      #   num_parallel_tree = 1,\n",
    "      #   # alpha = 1,\n",
    "      #   gamma = 0,\n",
    "      #   min_child_weight = 0.1,\n",
    "      #   eval_metric = 'rmse',\n",
    "      #   booster = 'gbtree'\n",
    "      #   # booster = 'gblinear'\n",
    "      # )\n",
    "      \n",
    "      # Params conservative\n",
    "      xgb_params <- list(\n",
    "        seed = 0,\n",
    "        colsample_bytree = 0.8,\n",
    "        silent = 1,\n",
    "        subsample = 0.6,\n",
    "        # learning_rate = 0.01,\n",
    "        eta = 0.02,  # low value means it is more robust to overfitting\n",
    "        # objective = 'reg:linear',\n",
    "        max_depth = 15,\n",
    "        num_parallel_tree = 100,\n",
    "        # alpha = 1,\n",
    "        gamma = 0,\n",
    "        min_child_weight = 1,\n",
    "        eval_metric = 'rmse',\n",
    "        booster = 'gbtree'\n",
    "        # booster = 'gblinear'\n",
    "        # verbose_eval=10\n",
    "      )\n",
    "      \n",
    "      xgb_cv <- xgb.cv(xgb_params, dtrain, nrounds=1000, nfold=5, stratified=F, early_stopping_rounds=100, verbose=2)\n",
    "      \n",
    "      best_nrounds <- xgb_cv$best_ntreelimit\n",
    "      \n",
    "      # Measure learning progress while building the model\n",
    "      set.seed(3410)\n",
    "      train_partition_index <- createDataPartition(y_train_prepared, p=0.8, list=F, times=1)\n",
    "      # dtrain_bench = dtrain[1:as.integer(dim(dtrain)[1]*0.8)]\n",
    "      # dtest_bench = dtrain[(as.integer(dim(dtrain)[1]*0.8) + 1):dim(dtrain)[1]]\n",
    "      dtrain_bench = dtrain[train_partition_index,]\n",
    "      test_partition_index <- vector(\"logical\", length=length(y_train_prepared))\n",
    "      test_partition_index[train_partition_index] <- T\n",
    "      test_partition_index <- which(!test_partition_index)\n",
    "      dtest_bench = dtrain[test_partition_index,]\n",
    "      watchlist <- list(train=dtrain_bench, test=dtest_bench)\n",
    "      \n",
    "      gbdt <- xgb.train(xgb_params, dtrain, nrounds=as.integer(best_nrounds))\n",
    "      # gbdt <- xgb.train(xgb_params, dtrain_bench, watchlist=watchlist, nrounds=as.integer(best_nrounds))\n",
    "      output_xgb_cv <- predict(gbdt, dtest)\n",
    "      output <- output_xgb_cv\n",
    "      \n",
    "      # Information from xgb.DMatrix\n",
    "      label = getinfo(dtrain, \"label\")\n",
    "      # Only makes sense for binary classification where output is {0, 1}\n",
    "      # err <- as.numeric(sum(as.integer(output_xgb_cv > 0.5) != label))/length(label)\n",
    "      # print(paste(\"test-error=\", err))\n",
    "      \n",
    "      # Feature importance\n",
    "      importance_matrix <- xgb.importance(feature_names=colnames(x_train), model=gbdt)\n",
    "      head(importance_matrix)\n",
    "      # print(importance_matrix)\n",
    "      xgb.plot.importance(importance_matrix=importance_matrix)\n",
    "      # Deeper analysis of features\n",
    "      # How to do it for a regression problem\n",
    "      # importance_raw <- xgb.importance(feature_names=colnames(x_train), model=gbdt, data=x_train, label=y_train_prepared)\n",
    "      # importance_clean <- importance_raw[,`:=`(Cover=NULL, Frequency=NULL)]\n",
    "      \n",
    "      # Checking Chi^2 between features. Higher means more correlated\n",
    "      # chi2 <- chisq.test(x_train$OverallQual, y_train_prepared)\n",
    "      # print(chi2)\n",
    "      # chi2 <- chisq.test(x_train$GrLivArea)\n",
    "      # print(chi2)\n",
    "      \n",
    "      # Trees from model\n",
    "      # xgb.plot.tree(model=gbdt)\n",
    "    }\n",
    "    \n",
    "    # Todo: implement Regularized linear models (lasso, ridge)\n",
    "    \n",
    "  }\n",
    "  \n",
    "  is_make_submission <- F\n",
    "  if(is_make_submission && is_make_prediction)\n",
    "  {\n",
    "    name <- 'submission.csv'\n",
    "    submission <- fread(paste0(save_path, name, collapse=''), colClasses=c(\"integer\", \"numeric\"))\n",
    "    \n",
    "    if(is_make_prediction && is_xgb_cv)\n",
    "    {\n",
    "      # save model to binary local file\n",
    "      xgb.save(gbdt, paste0(save_path, \"xgboost.model\", collapse=''))\n",
    "      \n",
    "      # Test to see how identical our saved model is to the original by comparison of two predictions\n",
    "      # load binary model to R\n",
    "      # bst2 <- xgb.load(paste0(save_path, \"model_to_compare_xgboost.model\", collapse=''))\n",
    "      # pred2 <- predict(bst2, dtest)\n",
    "      \n",
    "      # And now the test\n",
    "      # print(paste(\"sum(abs(pred2 - pred))=\", sum(abs(pred2 - output_xgb_cv))))\n",
    "    }\n",
    "    \n",
    "    if(house_prices@is_with_log1p_SalePrice)\n",
    "    {\n",
    "      submission$SalePrice <- expm1(output)\n",
    "    } else\n",
    "    {\n",
    "      submission$SalePrice <- output\n",
    "    }\n",
    "    \n",
    "    # submission$Id <- Id_column\n",
    "    write.csv(submission, paste0(save_path, name, collapse=''), row.names=F)\n",
    "    \n",
    "  }\n",
    "\n",
    "  }"
   ]
  }
 ],
 "metadata": {
  "kernelspec": {
   "display_name": "R",
   "language": "R",
   "name": "ir"
  },
  "language_info": {
   "codemirror_mode": "r",
   "file_extension": ".r",
   "mimetype": "text/x-r-source",
   "name": "R",
   "pygments_lexer": "r",
   "version": "3.3.3"
  }
 },
 "nbformat": 4,
 "nbformat_minor": 0
}
